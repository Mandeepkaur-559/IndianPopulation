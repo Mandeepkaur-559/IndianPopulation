{
 "cells": [
  {
   "cell_type": "code",
   "execution_count": null,
   "id": "f44c8075",
   "metadata": {},
   "outputs": [],
   "source": [
    "import pandas as pd\n",
    "import json\n",
    "import plotly.express as px\n",
    "import plotly.graph_objects as go\n",
    "from plotly.subplots import make_subplots\n",
    "import numpy as np\n"
   ]
  },
  {
   "cell_type": "code",
   "execution_count": null,
   "id": "be49523a",
   "metadata": {},
   "outputs": [],
   "source": [
    "#download the json file from internet\n",
    "#read json file to get geographical data\n",
    "india_json= json.load(open(\"states_india.geojson\",'r'))\n"
   ]
  },
  {
   "cell_type": "code",
   "execution_count": null,
   "id": "f790201d",
   "metadata": {
    "scrolled": false
   },
   "outputs": [],
   "source": [
    "india_json['features'][10]"
   ]
  },
  {
   "cell_type": "code",
   "execution_count": null,
   "id": "818efcc0",
   "metadata": {},
   "outputs": [],
   "source": [
    "# read the datafram list  store in dataframe df\n",
    "df=pd.read_csv(\"india_data.csv\")"
   ]
  },
  {
   "cell_type": "markdown",
   "id": "fa8d5e1a",
   "metadata": {},
   "source": [
    "# Data cleaning"
   ]
  },
  {
   "cell_type": "code",
   "execution_count": null,
   "id": "649a8c0b",
   "metadata": {},
   "outputs": [],
   "source": [
    "# deleted unwanted columns\n",
    "df.drop([\"National Share (%)\",\"Percent rural\",\"Percent urban\"],axis=1,inplace=True)\n"
   ]
  },
  {
   "cell_type": "code",
   "execution_count": null,
   "id": "750edcc2",
   "metadata": {},
   "outputs": [],
   "source": [
    "#clean the density column\n",
    "\n",
    "df[\"Density\"]= df[\"Density[a]\"].apply(lambda x:int(float(x.split(\"/\")[0].replace(\",\",\"\"))))"
   ]
  },
  {
   "cell_type": "code",
   "execution_count": null,
   "id": "d3a9f584",
   "metadata": {},
   "outputs": [],
   "source": [
    "# Mapping geojson file with dataframe\n",
    "state_id_map={}\n",
    "for feature in india_json['features']:\n",
    "    #create a id column to do mapping of two files\n",
    "    feature['id']= feature['properties']['state_code']\n",
    "    #link id column with state name column\n",
    "    state_id_map[feature['properties']['st_nm']]= feature['id']\n"
   ]
  },
  {
   "cell_type": "code",
   "execution_count": null,
   "id": "65dbc8c4",
   "metadata": {},
   "outputs": [],
   "source": [
    "df[\"State or union territory\"].replace({\"Jammu and Kashmir\": \"Jammu & Kashmir\", \"Manipur[d]\": \"Manipur\",\"Arunachal Pradesh\": \"Arunanchal Pradesh\",\"Dadra and Nagar Haveli and Daman and Diu\": \"Daman & Diu\", \"Andaman and Nicobar Islands\": \"Andaman & Nicobar Island\"}, inplace=True)\n"
   ]
  },
  {
   "cell_type": "code",
   "execution_count": null,
   "id": "50929db1",
   "metadata": {},
   "outputs": [],
   "source": [
    "# remove a ladakh and india from column\n",
    "df.drop(df.index[df[\"State or union territory\"] == 'Ladakh'], inplace = True)\n",
    "df.drop(df.index[df[\"State or union territory\"] == 'India'], inplace = True)\n"
   ]
  },
  {
   "cell_type": "code",
   "execution_count": null,
   "id": "35993e1c",
   "metadata": {},
   "outputs": [],
   "source": [
    "# add id colum in dataframe\n",
    "df['id']= df[\"State or union territory\"].apply(lambda x:state_id_map[x])"
   ]
  },
  {
   "cell_type": "code",
   "execution_count": null,
   "id": "fe2c7f04",
   "metadata": {},
   "outputs": [],
   "source": [
    " # use of log10() to get a more clrity of graph over Density column\n",
    "df[\"DensityScale\"]=np.log10(df[\"Density\"])"
   ]
  },
  {
   "cell_type": "code",
   "execution_count": null,
   "id": "7d226531",
   "metadata": {},
   "outputs": [],
   "source": [
    "#change the data type of population column and did some cleaning\n",
    "df[\"Population\"] = df[\"Population\"].apply(lambda x:int(float(x.split(\"(\")[0].replace(\",\",\"\").replace(\"[b]\",\"\"))))\n"
   ]
  },
  {
   "cell_type": "markdown",
   "id": "ed5f192d",
   "metadata": {},
   "source": [
    "# Visualization of dataset"
   ]
  },
  {
   "cell_type": "code",
   "execution_count": null,
   "id": "f1d37c68",
   "metadata": {},
   "outputs": [],
   "source": [
    "# choroplath\n",
    "fig= px.choropleth(df,locations=\"id\",\n",
    "                   geojson=india_json,\n",
    "                   color=\"DensityScale\",\n",
    "                   scope=\"asia\",\n",
    "                   hover_name=\"State or union territory\",\n",
    "                   hover_data=[\"Density\"])\n",
    "fig.update_geos(fitbounds=\"locations\", visible= False)\n",
    "fig.show()"
   ]
  },
  {
   "cell_type": "code",
   "execution_count": null,
   "id": "79bf2302",
   "metadata": {},
   "outputs": [],
   "source": [
    "# Choroplath mapbox\n",
    "\n",
    "fig= px.choropleth_mapbox(df,locations=\"id\",\n",
    "                   geojson=india_json,\n",
    "                   color=\"DensityScale\",\n",
    "                    hover_name=\"State or union territory\",\n",
    "                   hover_data=[\"Density\"],\n",
    "                   mapbox_style=\"carto-positron\",\n",
    "                    center={\"lat\":25 , \"lon\":78},\n",
    "                   zoom=3,opacity= 0.6)\n",
    "fig.show()"
   ]
  },
  {
   "cell_type": "code",
   "execution_count": null,
   "id": "80dff156",
   "metadata": {},
   "outputs": [],
   "source": [
    "df[\"Population\"].dtypes"
   ]
  },
  {
   "cell_type": "code",
   "execution_count": null,
   "id": "44f626c7",
   "metadata": {},
   "outputs": [],
   "source": [
    "df.head()"
   ]
  },
  {
   "cell_type": "code",
   "execution_count": null,
   "id": "a15a8f0a",
   "metadata": {},
   "outputs": [],
   "source": [
    "# choroplath\n",
    "fig= px.choropleth(df,locations=\"id\",\n",
    "                   geojson=india_json,\n",
    "                   color=\"Population\",\n",
    "                   scope=\"asia\",\n",
    "                   hover_name=\"State or union territory\",\n",
    "                   hover_data=[\"Population\"],\n",
    "                  color_continuous_scale=px.colors.sequential.Viridis)\n",
    "fig.update_geos(fitbounds=\"locations\", visible= False)\n",
    "fig.show()"
   ]
  },
  {
   "cell_type": "code",
   "execution_count": null,
   "id": "c09d8496",
   "metadata": {},
   "outputs": [],
   "source": [
    "fig = px.bar(df, y=\"State or union territory\", x=\"Population\", color=\"Population\", orientation=\"h\",\n",
    "             color_continuous_scale='Bluered_r')\n",
    "\n",
    "fig.show()"
   ]
  },
  {
   "cell_type": "code",
   "execution_count": null,
   "id": "ebe5282b",
   "metadata": {},
   "outputs": [],
   "source": [
    "# together view of urban and rural population using pie chart\n",
    "\n",
    "fig= px.pie(df,names=\"State or union territory\",values=\"Urban population\" , hover_data=[\"Rural population\"])\n",
    "fig.update_traces(textposition='inside', textinfo='percent+label')\n",
    "\n",
    "fig.show()"
   ]
  },
  {
   "cell_type": "code",
   "execution_count": null,
   "id": "c899a77b",
   "metadata": {},
   "outputs": [],
   "source": [
    "df.head()"
   ]
  },
  {
   "cell_type": "code",
   "execution_count": null,
   "id": "099ae62e",
   "metadata": {},
   "outputs": [],
   "source": [
    "# seprate view of urban and rural population \n",
    "#Create subplots: use 'domain' type for Pie subplot\n",
    "\n",
    "fig = make_subplots(rows=1, cols=2, specs=[[{'type':'domain'}, {'type':'domain'}]])\n",
    "fig.add_trace(go.Pie(labels=df[\"State or union territory\"], values=df[\"Urban population\"], name=\"Urban population\"),\n",
    "              1, 1)\n",
    "fig.add_trace(go.Pie(labels=df[\"State or union territory\"], values=df[\"Rural population\"], name=\"Rural population\"),\n",
    "                            1, 2)\n",
    "#to wrap the text inside the pie\n",
    "fig.update_traces(textposition='inside', textinfo='percent+label')\n",
    "\n",
    "# Use `hole` to create a donut-like pie chart\n",
    "fig.update_traces(hole=.3, hoverinfo=\"label+percent+name\")\n",
    "\n",
    "fig.update_layout(\n",
    "    title_text=\"Urban and Rural population in India\",\n",
    "    \n",
    "    # Add annotations in the center of the donut pies.\n",
    "    annotations=[dict(text='Urban', x=0.18, y=0.5, font_size=20, showarrow=False),\n",
    "                 dict(text='Rural', x=0.82, y=0.5, font_size=20, showarrow=False)])\n",
    "fig.show()"
   ]
  },
  {
   "cell_type": "code",
   "execution_count": null,
   "id": "f7718f64",
   "metadata": {},
   "outputs": [],
   "source": []
  }
 ],
 "metadata": {
  "kernelspec": {
   "display_name": "Python 3",
   "language": "python",
   "name": "python3"
  },
  "language_info": {
   "codemirror_mode": {
    "name": "ipython",
    "version": 3
   },
   "file_extension": ".py",
   "mimetype": "text/x-python",
   "name": "python",
   "nbconvert_exporter": "python",
   "pygments_lexer": "ipython3",
   "version": "3.8.8"
  }
 },
 "nbformat": 4,
 "nbformat_minor": 5
}
